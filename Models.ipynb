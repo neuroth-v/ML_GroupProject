{
 "cells": [
  {
   "cell_type": "markdown",
   "metadata": {},
   "source": [
    "# Importing Libraries and Packages"
   ]
  },
  {
   "cell_type": "code",
   "execution_count": 1,
   "metadata": {},
   "outputs": [],
   "source": [
    "# Base\n",
    "import pandas as pd\n",
    "import numpy as np\n",
    "import warnings\n",
    "warnings.filterwarnings('ignore')\n",
    "\n",
    "# EDA\n",
    "import missingno as msno\n",
    "\n",
    "# Visualisation\n",
    "import matplotlib.pyplot as plt\n",
    "from matplotlib.colors import ListedColormap\n",
    "import seaborn as sns\n",
    "from sklearn.tree import plot_tree\n",
    "\n",
    "# Text-Based Analyses\n",
    "import gensim.downloader\n",
    "from gensim.models import KeyedVectors\n",
    "import nltk\n",
    "from nltk.corpus import stopwords\n",
    "from nltk.stem import PorterStemmer\n",
    "import re\n",
    "from sklearn.metrics.pairwise import cosine_similarity\n",
    "\n",
    "# One-hot Encoding\n",
    "from sklearn.preprocessing import OneHotEncoder\n",
    "from sklearn.compose import ColumnTransformer\n",
    "\n",
    "# Voting\n",
    "from sklearn.ensemble import VotingClassifier\n",
    "from sklearn.ensemble import StackingClassifier\n",
    "from xgboost import XGBClassifier\n",
    "\n",
    "# Classifiers\n",
    "from sklearn.tree import DecisionTreeClassifier                                     \n",
    "from sklearn.ensemble import RandomForestClassifier\n",
    "from sklearn.model_selection import GridSearchCV, RandomizedSearchCV                \n",
    "from sklearn.linear_model import SGDClassifier                                      \n",
    "from sklearn.neighbors import KNeighborsClassifier\n",
    "from sklearn.neighbors import NearestNeighbors                                      \n",
    "from sklearn.linear_model import LogisticRegression\n",
    "\n",
    "from sklearn.svm import SVC                                                        \n",
    "from sklearn.ensemble import AdaBoostClassifier \n",
    "\n",
    "# Regressors\n",
    "from sklearn.linear_model import Ridge\n",
    "from sklearn.linear_model import Lasso\n",
    "from sklearn.preprocessing import PolynomialFeatures\n",
    "from sklearn.linear_model import ElasticNet\n",
    "from sklearn.linear_model import LinearRegression\n",
    "from sklearn.linear_model import SGDRegressor \n",
    "from sklearn.tree import DecisionTreeRegressor\n",
    "from sklearn.ensemble import RandomForestRegressor\n",
    "\n",
    "# Clustering\n",
    "from sklearn.cluster import KMeans, DBSCAN, AgglomerativeClustering\n",
    "import scipy.cluster.hierarchy as sch  \n",
    "\n",
    "# Scalers and Transformers\n",
    "from sklearn.preprocessing import StandardScaler, MinMaxScaler, RobustScaler\n",
    "from sklearn.preprocessing import FunctionTransformer\n",
    "from sklearn.pipeline import Pipeline                                               \n",
    "from sklearn.compose import ColumnTransformer\n",
    "from sklearn.preprocessing import OneHotEncoder, KBinsDiscretizer\n",
    "from sklearn.impute import SimpleImputer\n",
    "\n",
    "# Metrics\n",
    "from sklearn.metrics import classification_report, confusion_matrix, accuracy_score, recall_score, precision_score, roc_curve, roc_auc_score, f1_score\n",
    "from sklearn.metrics import mean_squared_error, r2_score, mean_absolute_error\n",
    "from sklearn.model_selection import train_test_split\n",
    "from scipy.stats import zscore, boxcox\n",
    "from sklearn.model_selection import cross_val_score  "
   ]
  },
  {
   "cell_type": "code",
   "execution_count": 2,
   "metadata": {},
   "outputs": [],
   "source": [
    "# Set Seed\n",
    "SEED = 50"
   ]
  },
  {
   "cell_type": "markdown",
   "metadata": {},
   "source": [
    "# Importing Data"
   ]
  },
  {
   "cell_type": "code",
   "execution_count": 3,
   "metadata": {},
   "outputs": [
    {
     "data": {
      "text/html": [
       "<div>\n",
       "<style scoped>\n",
       "    .dataframe tbody tr th:only-of-type {\n",
       "        vertical-align: middle;\n",
       "    }\n",
       "\n",
       "    .dataframe tbody tr th {\n",
       "        vertical-align: top;\n",
       "    }\n",
       "\n",
       "    .dataframe thead th {\n",
       "        text-align: right;\n",
       "    }\n",
       "</style>\n",
       "<table border=\"1\" class=\"dataframe\">\n",
       "  <thead>\n",
       "    <tr style=\"text-align: right;\">\n",
       "      <th></th>\n",
       "      <th>ID</th>\n",
       "      <th>Name</th>\n",
       "      <th>Category</th>\n",
       "      <th>Subcategory</th>\n",
       "      <th>Country</th>\n",
       "      <th>Launched</th>\n",
       "      <th>Deadline</th>\n",
       "      <th>Goal</th>\n",
       "      <th>Pledged</th>\n",
       "      <th>Backers</th>\n",
       "      <th>State</th>\n",
       "    </tr>\n",
       "  </thead>\n",
       "  <tbody>\n",
       "    <tr>\n",
       "      <th>0</th>\n",
       "      <td>1860890148</td>\n",
       "      <td>Grace Jones Does Not Give A F$#% T-Shirt (limi...</td>\n",
       "      <td>Fashion</td>\n",
       "      <td>Fashion</td>\n",
       "      <td>United States</td>\n",
       "      <td>2009-04-21 21:02:48</td>\n",
       "      <td>2009-05-31</td>\n",
       "      <td>1000</td>\n",
       "      <td>625</td>\n",
       "      <td>30</td>\n",
       "      <td>Failed</td>\n",
       "    </tr>\n",
       "    <tr>\n",
       "      <th>1</th>\n",
       "      <td>709707365</td>\n",
       "      <td>CRYSTAL ANTLERS UNTITLED MOVIE</td>\n",
       "      <td>Film &amp; Video</td>\n",
       "      <td>Shorts</td>\n",
       "      <td>United States</td>\n",
       "      <td>2009-04-23 00:07:53</td>\n",
       "      <td>2009-07-20</td>\n",
       "      <td>80000</td>\n",
       "      <td>22</td>\n",
       "      <td>3</td>\n",
       "      <td>Failed</td>\n",
       "    </tr>\n",
       "  </tbody>\n",
       "</table>\n",
       "</div>"
      ],
      "text/plain": [
       "           ID                                               Name   \n",
       "0  1860890148  Grace Jones Does Not Give A F$#% T-Shirt (limi...  \\\n",
       "1   709707365                     CRYSTAL ANTLERS UNTITLED MOVIE   \n",
       "\n",
       "       Category Subcategory        Country             Launched    Deadline   \n",
       "0       Fashion     Fashion  United States  2009-04-21 21:02:48  2009-05-31  \\\n",
       "1  Film & Video      Shorts  United States  2009-04-23 00:07:53  2009-07-20   \n",
       "\n",
       "    Goal  Pledged  Backers   State  \n",
       "0   1000      625       30  Failed  \n",
       "1  80000       22        3  Failed  "
      ]
     },
     "execution_count": 3,
     "metadata": {},
     "output_type": "execute_result"
    }
   ],
   "source": [
    "# Import data\n",
    "path = \"data/kickstarter_projects.csv\"\n",
    "\n",
    "df_kickstarter = pd.read_csv(path)\n",
    "df_kickstarter.head(2)"
   ]
  },
  {
   "cell_type": "code",
   "execution_count": 4,
   "metadata": {},
   "outputs": [],
   "source": [
    "# Converting dates to datetime objects\n",
    "df_kickstarter['Launched'] = pd.to_datetime(df_kickstarter['Launched'], format='%Y-%m-%d %H:%M:%S')\n",
    "df_kickstarter['Deadline'] = pd.to_datetime(df_kickstarter['Deadline'], format='%Y-%m-%d')"
   ]
  },
  {
   "cell_type": "markdown",
   "metadata": {},
   "source": [
    "# EDA"
   ]
  },
  {
   "cell_type": "markdown",
   "metadata": {},
   "source": [
    "#### Data Overview"
   ]
  },
  {
   "cell_type": "code",
   "execution_count": 5,
   "metadata": {},
   "outputs": [
    {
     "name": "stdout",
     "output_type": "stream",
     "text": [
      "<class 'pandas.core.frame.DataFrame'>\n",
      "RangeIndex: 374853 entries, 0 to 374852\n",
      "Data columns (total 11 columns):\n",
      " #   Column       Non-Null Count   Dtype         \n",
      "---  ------       --------------   -----         \n",
      " 0   ID           374853 non-null  int64         \n",
      " 1   Name         374853 non-null  object        \n",
      " 2   Category     374853 non-null  object        \n",
      " 3   Subcategory  374853 non-null  object        \n",
      " 4   Country      374853 non-null  object        \n",
      " 5   Launched     374853 non-null  datetime64[ns]\n",
      " 6   Deadline     374853 non-null  datetime64[ns]\n",
      " 7   Goal         374853 non-null  int64         \n",
      " 8   Pledged      374853 non-null  int64         \n",
      " 9   Backers      374853 non-null  int64         \n",
      " 10  State        374853 non-null  object        \n",
      "dtypes: datetime64[ns](2), int64(4), object(5)\n",
      "memory usage: 31.5+ MB\n"
     ]
    }
   ],
   "source": [
    "df_kickstarter.info()"
   ]
  },
  {
   "cell_type": "code",
   "execution_count": 6,
   "metadata": {},
   "outputs": [
    {
     "data": {
      "text/html": [
       "<div>\n",
       "<style scoped>\n",
       "    .dataframe tbody tr th:only-of-type {\n",
       "        vertical-align: middle;\n",
       "    }\n",
       "\n",
       "    .dataframe tbody tr th {\n",
       "        vertical-align: top;\n",
       "    }\n",
       "\n",
       "    .dataframe thead th {\n",
       "        text-align: right;\n",
       "    }\n",
       "</style>\n",
       "<table border=\"1\" class=\"dataframe\">\n",
       "  <thead>\n",
       "    <tr style=\"text-align: right;\">\n",
       "      <th></th>\n",
       "      <th>ID</th>\n",
       "      <th>Launched</th>\n",
       "      <th>Deadline</th>\n",
       "      <th>Goal</th>\n",
       "      <th>Pledged</th>\n",
       "      <th>Backers</th>\n",
       "    </tr>\n",
       "  </thead>\n",
       "  <tbody>\n",
       "    <tr>\n",
       "      <th>count</th>\n",
       "      <td>3.748530e+05</td>\n",
       "      <td>374853</td>\n",
       "      <td>374853</td>\n",
       "      <td>3.748530e+05</td>\n",
       "      <td>3.748530e+05</td>\n",
       "      <td>374853.000000</td>\n",
       "    </tr>\n",
       "    <tr>\n",
       "      <th>mean</th>\n",
       "      <td>1.074656e+09</td>\n",
       "      <td>2014-09-26 12:22:30.728664320</td>\n",
       "      <td>2014-10-30 04:00:35.149778944</td>\n",
       "      <td>4.586378e+04</td>\n",
       "      <td>9.121073e+03</td>\n",
       "      <td>106.690359</td>\n",
       "    </tr>\n",
       "    <tr>\n",
       "      <th>min</th>\n",
       "      <td>5.971000e+03</td>\n",
       "      <td>2009-04-21 21:02:48</td>\n",
       "      <td>2009-05-03 00:00:00</td>\n",
       "      <td>0.000000e+00</td>\n",
       "      <td>0.000000e+00</td>\n",
       "      <td>0.000000</td>\n",
       "    </tr>\n",
       "    <tr>\n",
       "      <th>25%</th>\n",
       "      <td>5.380728e+08</td>\n",
       "      <td>2013-04-30 22:06:24</td>\n",
       "      <td>2013-06-01 00:00:00</td>\n",
       "      <td>2.000000e+03</td>\n",
       "      <td>3.100000e+01</td>\n",
       "      <td>2.000000</td>\n",
       "    </tr>\n",
       "    <tr>\n",
       "      <th>50%</th>\n",
       "      <td>1.075300e+09</td>\n",
       "      <td>2014-12-02 19:02:35</td>\n",
       "      <td>2015-01-06 00:00:00</td>\n",
       "      <td>5.500000e+03</td>\n",
       "      <td>6.250000e+02</td>\n",
       "      <td>12.000000</td>\n",
       "    </tr>\n",
       "    <tr>\n",
       "      <th>75%</th>\n",
       "      <td>1.610149e+09</td>\n",
       "      <td>2016-03-29 19:50:49</td>\n",
       "      <td>2016-05-01 00:00:00</td>\n",
       "      <td>1.600000e+04</td>\n",
       "      <td>4.051000e+03</td>\n",
       "      <td>57.000000</td>\n",
       "    </tr>\n",
       "    <tr>\n",
       "      <th>max</th>\n",
       "      <td>2.147476e+09</td>\n",
       "      <td>2018-01-02 15:02:31</td>\n",
       "      <td>2018-03-03 00:00:00</td>\n",
       "      <td>1.663614e+08</td>\n",
       "      <td>2.033899e+07</td>\n",
       "      <td>219382.000000</td>\n",
       "    </tr>\n",
       "    <tr>\n",
       "      <th>std</th>\n",
       "      <td>6.191377e+08</td>\n",
       "      <td>NaN</td>\n",
       "      <td>NaN</td>\n",
       "      <td>1.158778e+06</td>\n",
       "      <td>9.132054e+04</td>\n",
       "      <td>911.718520</td>\n",
       "    </tr>\n",
       "  </tbody>\n",
       "</table>\n",
       "</div>"
      ],
      "text/plain": [
       "                 ID                       Launched   \n",
       "count  3.748530e+05                         374853  \\\n",
       "mean   1.074656e+09  2014-09-26 12:22:30.728664320   \n",
       "min    5.971000e+03            2009-04-21 21:02:48   \n",
       "25%    5.380728e+08            2013-04-30 22:06:24   \n",
       "50%    1.075300e+09            2014-12-02 19:02:35   \n",
       "75%    1.610149e+09            2016-03-29 19:50:49   \n",
       "max    2.147476e+09            2018-01-02 15:02:31   \n",
       "std    6.191377e+08                            NaN   \n",
       "\n",
       "                            Deadline          Goal       Pledged   \n",
       "count                         374853  3.748530e+05  3.748530e+05  \\\n",
       "mean   2014-10-30 04:00:35.149778944  4.586378e+04  9.121073e+03   \n",
       "min              2009-05-03 00:00:00  0.000000e+00  0.000000e+00   \n",
       "25%              2013-06-01 00:00:00  2.000000e+03  3.100000e+01   \n",
       "50%              2015-01-06 00:00:00  5.500000e+03  6.250000e+02   \n",
       "75%              2016-05-01 00:00:00  1.600000e+04  4.051000e+03   \n",
       "max              2018-03-03 00:00:00  1.663614e+08  2.033899e+07   \n",
       "std                              NaN  1.158778e+06  9.132054e+04   \n",
       "\n",
       "             Backers  \n",
       "count  374853.000000  \n",
       "mean      106.690359  \n",
       "min         0.000000  \n",
       "25%         2.000000  \n",
       "50%        12.000000  \n",
       "75%        57.000000  \n",
       "max    219382.000000  \n",
       "std       911.718520  "
      ]
     },
     "execution_count": 6,
     "metadata": {},
     "output_type": "execute_result"
    }
   ],
   "source": [
    "df_kickstarter.describe()"
   ]
  },
  {
   "cell_type": "markdown",
   "metadata": {},
   "source": [
    "Suspect right-skewed distributions for Goal, Pledged, and Backers."
   ]
  },
  {
   "cell_type": "code",
   "execution_count": 7,
   "metadata": {},
   "outputs": [
    {
     "data": {
      "text/plain": [
       "0"
      ]
     },
     "execution_count": 7,
     "metadata": {},
     "output_type": "execute_result"
    }
   ],
   "source": [
    "# Check for duplicates\n",
    "df_kickstarter.duplicated().sum()"
   ]
  },
  {
   "cell_type": "markdown",
   "metadata": {},
   "source": [
    "# Visualizations and Data Cleaning"
   ]
  },
  {
   "cell_type": "markdown",
   "metadata": {},
   "source": [
    "#### Numerical feature distribution"
   ]
  },
  {
   "cell_type": "code",
   "execution_count": 8,
   "metadata": {},
   "outputs": [
    {
     "data": {
      "image/png": "[encoded data removed]",
      "text/plain": [
       "<Figure size 1500x500 with 3 Axes>"
      ]
     },
     "metadata": {},
     "output_type": "display_data"
    }
   ],
   "source": [
    "# Plotting Histograms of numeric columns Goal, Pledged, Backers\n",
    "# WARNING: Running this takes forever\n",
    "plt.figure(figsize=(15, 5))\n",
    "\n",
    "plt.subplot(1, 3, 1)\n",
    "sns.histplot(df_kickstarter['Goal'], kde=True)\n",
    "plt.title('Distribution of Goal')\n",
    "plt.xlabel('Goal Amount')\n",
    "plt.ylabel('Frequency')\n",
    "\n",
    "plt.subplot(1, 3, 2)\n",
    "sns.histplot(df_kickstarter['Pledged'], kde=True)\n",
    "plt.title('Distribution of Pledged')\n",
    "plt.xlabel('Pledged Amount')\n",
    "plt.ylabel('Frequency')\n",
    "\n",
    "plt.subplot(1, 3, 3)\n",
    "sns.histplot(df_kickstarter['Backers'], kde=True)\n",
    "plt.title('Distribution of Backers')\n",
    "plt.xlabel('Number of Backers')\n",
    "plt.ylabel('Frequency')\n",
    "\n",
    "plt.tight_layout()\n",
    "plt.show()"
   ]
  },
  {
   "cell_type": "code",
   "execution_count": 8,
   "metadata": {},
   "outputs": [],
   "source": [
    "# Log transform the numerical columns. Handle potential errors from log(0)\n",
    "def log_transform(x):\n",
    "    return np.log1p(x)\n",
    "\n",
    "df_kickstarter['log_Goal'] = log_transform(df_kickstarter['Goal'])\n",
    "df_kickstarter['log_Pledged'] = log_transform(df_kickstarter['Pledged'])\n",
    "df_kickstarter['log_Backers'] = log_transform(df_kickstarter['Backers'])"
   ]
  },
  {
   "cell_type": "code",
   "execution_count": 9,
   "metadata": {},
   "outputs": [
    {
     "data": {
      "image/png": "[encoded data removed]",
      "text/plain": [
       "<Figure size 1500x500 with 3 Axes>"
      ]
     },
     "metadata": {},
     "output_type": "display_data"
    }
   ],
   "source": [
    "plt.figure(figsize=(15, 5))\n",
    "\n",
    "plt.subplot(1, 3, 1)\n",
    "sns.histplot(df_kickstarter['log_Goal'], kde=True)\n",
    "plt.title('Distribution of Log-Transformed Goal')\n",
    "plt.xlabel('Log(1+Goal)')\n",
    "plt.ylabel('Frequency')\n",
    "\n",
    "plt.subplot(1, 3, 2)\n",
    "sns.histplot(df_kickstarter['log_Pledged'], kde=True)\n",
    "plt.title('Distribution of Log-Transformed Pledged')\n",
    "plt.xlabel('Log(1+Pledged)')\n",
    "plt.ylabel('Frequency')\n",
    "\n",
    "plt.subplot(1, 3, 3)\n",
    "sns.histplot(df_kickstarter['log_Backers'], kde=True)\n",
    "plt.title('Distribution of Log-Transformed Backers')\n",
    "plt.xlabel('Log(1+Backers)')\n",
    "plt.ylabel('Frequency')\n",
    "\n",
    "plt.tight_layout()\n",
    "plt.show()"
   ]
  },
  {
   "cell_type": "markdown",
   "metadata": {},
   "source": [
    "log-transformed distributions look much better and more interpretable. Some observations:\n",
    "- left peaks near zero: log-Pledged and log-Backers have sharp peak near 0 (very small or no funding/backers)\n",
    "- distribution shapes: log-goal appears roughly symmetrical after transformation, indicating most projects have mid-range funding goals "
   ]
  },
  {
   "cell_type": "markdown",
   "metadata": {},
   "source": [
    "#### Correlation Analysis"
   ]
  },
  {
   "cell_type": "code",
   "execution_count": 10,
   "metadata": {},
   "outputs": [],
   "source": [
    "# Select numerical columns for correlation analysis\n",
    "numerical_cols = ['Goal', 'Pledged', 'Backers', 'log_Goal', 'log_Pledged', 'log_Backers']"
   ]
  },
  {
   "cell_type": "code",
   "execution_count": 11,
   "metadata": {},
   "outputs": [
    {
     "data": {
      "image/png": "[encoded data removed]",
      "text/plain": [
       "<Figure size 1000x800 with 2 Axes>"
      ]
     },
     "metadata": {},
     "output_type": "display_data"
    }
   ],
   "source": [
    "# Calculate and plot Correlation matrix\n",
    "correlation_matrix = df_kickstarter[numerical_cols].corr()\n",
    "\n",
    "plt.figure(figsize=(10, 8))\n",
    "sns.heatmap(correlation_matrix, annot=True, cmap='coolwarm', fmt=\".2f\")\n",
    "plt.title('Correlation Matrix of Numerical Features')\n",
    "plt.show()"
   ]
  },
  {
   "cell_type": "markdown",
   "metadata": {},
   "source": [
    "High correlation between 'Pledged' and 'Backers' bzw. 'log_Pledged' and 'log_Backers' - potentially problematic. Options to handle:\n",
    "- drop 1 feature, keep the other\n",
    "- combine them into a new feature that captures the information from both variables, e.g. 'Pledge_per_Backer' (Ratio to analyze funding efficiency)\n",
    "- PCA to reduce multicollinearity and create uncorrelated components from highly correlated features\n",
    "- algorithm-specific solutions: dtrees, xgb don't mind correlated features"
   ]
  },
  {
   "cell_type": "markdown",
   "metadata": {},
   "source": [
    "#### Relationships with the Target Variable"
   ]
  },
  {
   "cell_type": "code",
   "execution_count": 12,
   "metadata": {},
   "outputs": [
    {
     "data": {
      "text/plain": [
       "array(['Failed', 'Successful', 'Canceled', 'Suspended', 'Live'],\n",
       "      dtype=object)"
      ]
     },
     "execution_count": 12,
     "metadata": {},
     "output_type": "execute_result"
    }
   ],
   "source": [
    "df_kickstarter['State'].unique()"
   ]
  },
  {
   "cell_type": "code",
   "execution_count": 13,
   "metadata": {},
   "outputs": [],
   "source": [
    "# Filter for successful/failed campaigns and convert to binary\n",
    "df_kickstarter_filtered = df_kickstarter[df_kickstarter['State'].isin(['Successful', 'Failed'])]\n",
    "df_kickstarter_filtered['State_num'] = df_kickstarter_filtered['State'].map({'Successful': 1, 'Failed': 0})"
   ]
  },
  {
   "cell_type": "code",
   "execution_count": 14,
   "metadata": {},
   "outputs": [
    {
     "data": {
      "image/png": "[encoded data removed]",
      "text/plain": [
       "<Figure size 1500x1000 with 6 Axes>"
      ]
     },
     "metadata": {},
     "output_type": "display_data"
    }
   ],
   "source": [
    "# Create box plots to compare distributions for successful vs. unsuccessful projects\n",
    "plt.figure(figsize=(15, 10))\n",
    "\n",
    "for i, col in enumerate(numerical_cols):\n",
    "    plt.subplot(2, 4, i + 1)  # Adjust subplot layout if you have more features\n",
    "    sns.boxplot(x='State', y=col, data=df_kickstarter_filtered)\n",
    "    plt.title(f'{col} vs. State')\n",
    "\n",
    "plt.tight_layout()\n",
    "plt.show()\n"
   ]
  },
  {
   "cell_type": "code",
   "execution_count": 15,
   "metadata": {},
   "outputs": [
    {
     "name": "stdout",
     "output_type": "stream",
     "text": [
      "                    Goal               Pledged             Backers          \n",
      "                    mean  median          mean  median        mean median   \n",
      "State                                                                       \n",
      "Failed      63189.223940  7500.0   1321.105434   100.0   16.431236    3.0  \\\n",
      "Successful   9535.703177  3840.0  22664.492249  5109.0  264.128397   71.0   \n",
      "\n",
      "            log_Goal           log_Pledged           log_Backers            \n",
      "                mean    median        mean    median        mean    median  \n",
      "State                                                                       \n",
      "Failed      8.891018  8.922792    4.219971  4.615121    1.682344  1.386294  \n",
      "Successful  8.127745  8.253488    8.555972  8.538955    4.392724  4.276666  \n"
     ]
    }
   ],
   "source": [
    "# Summary Statistics:\n",
    "summary_stats = df_kickstarter_filtered.groupby('State')[numerical_cols].agg(['mean', 'median'])\n",
    "print(summary_stats)"
   ]
  },
  {
   "cell_type": "markdown",
   "metadata": {},
   "source": [
    "#### Distribution of the Target Variable"
   ]
  },
  {
   "cell_type": "code",
   "execution_count": 16,
   "metadata": {},
   "outputs": [
    {
     "name": "stdout",
     "output_type": "stream",
     "text": [
      "State\n",
      "Failed        197611\n",
      "Successful    133851\n",
      "Name: count, dtype: int64\n"
     ]
    }
   ],
   "source": [
    "# In absolute Numbers\n",
    "state_counts = df_kickstarter_filtered['State'].value_counts()\n",
    "print(state_counts)"
   ]
  },
  {
   "cell_type": "code",
   "execution_count": 17,
   "metadata": {},
   "outputs": [
    {
     "name": "stdout",
     "output_type": "stream",
     "text": [
      "State\n",
      "Failed        59.617995\n",
      "Successful    40.382005\n",
      "Name: proportion, dtype: float64\n"
     ]
    }
   ],
   "source": [
    "# In Percentage\n",
    "state_percentage = df_kickstarter_filtered['State'].value_counts(normalize=True) * 100\n",
    "print(state_percentage)"
   ]
  },
  {
   "cell_type": "markdown",
   "metadata": {},
   "source": [
    "**Slight Class Imbalance**\n",
    "- while 40:60 isn't severely imbalanced, it can still bias some ML models and lead to suboptimal performance for the minority class\n",
    "- metrics: accuracy might appear high simply because the model predicts the majority class most of the time"
   ]
  },
  {
   "cell_type": "markdown",
   "metadata": {},
   "source": [
    "# Feature engineering"
   ]
  },
  {
   "cell_type": "code",
   "execution_count": 18,
   "metadata": {},
   "outputs": [],
   "source": [
    "# Temporal patterns\n",
    "df_kickstarter_filtered['ProjectDuration'] = (df_kickstarter_filtered['Deadline'] - df_kickstarter['Launched']).dt.days\n",
    "df_kickstarter_filtered['LaunchYear'] = df_kickstarter_filtered['Launched'].dt.year\n",
    "df_kickstarter_filtered['LaunchMonth'] = df_kickstarter_filtered['Launched'].dt.month\n",
    "df_kickstarter_filtered['LaunchDay'] = df_kickstarter_filtered['Launched'].dt.day\n",
    "df_kickstarter_filtered['DayOfWeek'] = df_kickstarter_filtered['Launched'].dt.dayofweek #0=Monday, 6=Sunday"
   ]
  },
  {
   "cell_type": "code",
   "execution_count": 19,
   "metadata": {},
   "outputs": [],
   "source": [
    "# Backers per Dollar pledged, handle 0 cases\n",
    "def calculate_backers_per_dollar(row):\n",
    "    if row['Pledged'] == 0:\n",
    "        return 0 #Handle division by zero\n",
    "    else:\n",
    "        return row['Backers'] / row['Pledged']"
   ]
  },
  {
   "cell_type": "code",
   "execution_count": 20,
   "metadata": {},
   "outputs": [],
   "source": [
    "# Apply function\n",
    "df_kickstarter_filtered['BackersPerDollar'] = df_kickstarter_filtered.apply(calculate_backers_per_dollar, axis=1)"
   ]
  },
  {
   "cell_type": "code",
   "execution_count": 22,
   "metadata": {},
   "outputs": [
    {
     "name": "stdout",
     "output_type": "stream",
     "text": [
      "    Goal  Pledged  Backers  BackersPerDollar\n",
      "0   1000      625       30          0.048000\n",
      "1  80000       22        3          0.136364\n",
      "2     20       35        3          0.085714\n",
      "3     99      145       25          0.172414\n",
      "4   1900      387       10          0.025840\n"
     ]
    }
   ],
   "source": [
    "# Check new features\n",
    "print(df_kickstarter_filtered[['Goal', 'Pledged', 'Backers', 'BackersPerDollar']].head())"
   ]
  },
  {
   "cell_type": "code",
   "execution_count": 23,
   "metadata": {},
   "outputs": [
    {
     "data": {
      "text/plain": [
       "Index(['ID', 'Name', 'Category', 'Subcategory', 'Country', 'Launched',\n",
       "       'Deadline', 'Goal', 'Pledged', 'Backers', 'State', 'log_Goal',\n",
       "       'log_Pledged', 'log_Backers', 'State_num', 'ProjectDuration',\n",
       "       'LaunchYear', 'LaunchMonth', 'LaunchDay', 'DayOfWeek',\n",
       "       'BackersPerDollar'],\n",
       "      dtype='object')"
      ]
     },
     "execution_count": 23,
     "metadata": {},
     "output_type": "execute_result"
    }
   ],
   "source": [
    "df_kickstarter_filtered.columns"
   ]
  },
  {
   "cell_type": "markdown",
   "metadata": {},
   "source": [
    "# Combining and Dropping Columns"
   ]
  },
  {
   "cell_type": "code",
   "execution_count": 24,
   "metadata": {},
   "outputs": [],
   "source": [
    "# Make a copy of our df to be on the safe side\n",
    "df_kickstarter_dropped = df_kickstarter_filtered.copy()"
   ]
  },
  {
   "cell_type": "markdown",
   "metadata": {},
   "source": [
    "#### Drop Subcategory Columns"
   ]
  },
  {
   "cell_type": "code",
   "execution_count": 25,
   "metadata": {},
   "outputs": [
    {
     "name": "stdout",
     "output_type": "stream",
     "text": [
      "Shape of DataFrame after removing subcategory columns: (331462, 18)\n"
     ]
    }
   ],
   "source": [
    "# Remove Subcategory Columns\n",
    "df_kickstarter_dropped = df_kickstarter_dropped.drop(columns=['ID', 'Subcategory', 'State'])\n",
    "print(f\"Shape of DataFrame after removing subcategory columns: {df_kickstarter_dropped.shape}\")"
   ]
  },
  {
   "cell_type": "markdown",
   "metadata": {},
   "source": [
    "## Splitting data for testing "
   ]
  },
  {
   "cell_type": "code",
   "execution_count": 26,
   "metadata": {},
   "outputs": [],
   "source": [
    "# Defining the target variable\n",
    "y = df_kickstarter_dropped['State_num']\n",
    "\n",
    "# Defining the input features\n",
    "X = df_kickstarter_dropped.drop('State_num', axis=1)"
   ]
  },
  {
   "cell_type": "code",
   "execution_count": 27,
   "metadata": {},
   "outputs": [],
   "source": [
    "# Split data into train and test sets (80-20)\n",
    "X_train, X_test, y_train, y_test = train_test_split(X, y, test_size=0.2, stratify=y, random_state=10)"
   ]
  },
  {
   "cell_type": "markdown",
   "metadata": {},
   "source": [
    "# Text-Based Analysis"
   ]
  },
  {
   "cell_type": "code",
   "execution_count": 28,
   "metadata": {},
   "outputs": [
    {
     "data": {
      "text/plain": [
       "Name\n",
       "New EP/Music Development                  11\n",
       "New EP / Music Development                10\n",
       "Pizza                                      7\n",
       "Debut Album                                7\n",
       "Choices                                    6\n",
       "                                          ..\n",
       "CHEMICAL CUT                               1\n",
       "Bully: Simulated Abuse                     1\n",
       "Conundrum.  Unordinary Granola.            1\n",
       "Mission L.A.                               1\n",
       "Chicago South Asian Film Festival 2017     1\n",
       "Name: count, Length: 263802, dtype: int64"
      ]
     },
     "execution_count": 28,
     "metadata": {},
     "output_type": "execute_result"
    }
   ],
   "source": [
    "X_train['Name'].value_counts()"
   ]
  },
  {
   "cell_type": "code",
   "execution_count": 29,
   "metadata": {},
   "outputs": [
    {
     "data": {
      "text/plain": [
       "Name\n",
       "Music Video                                            5\n",
       "Reflections                                            5\n",
       "Nocturne                                               4\n",
       "Redemption                                             3\n",
       "Nostalgia                                              3\n",
       "                                                      ..\n",
       "AquaJar: A love story between fish and plant           1\n",
       "Bring Greenwald to Sweden                              1\n",
       "Key West Contemporary Dance Company presents '1969'    1\n",
       "Bricks and Mortar                                      1\n",
       "JUMP! Family Entertainment                             1\n",
       "Name: count, Length: 66161, dtype: int64"
      ]
     },
     "execution_count": 29,
     "metadata": {},
     "output_type": "execute_result"
    }
   ],
   "source": [
    "X_test['Name'].value_counts()"
   ]
  },
  {
   "cell_type": "code",
   "execution_count": 30,
   "metadata": {},
   "outputs": [
    {
     "name": "stderr",
     "output_type": "stream",
     "text": [
      "[nltk_data] Downloading package punkt to\n",
      "[nltk_data]     /Users/vanessaroth/nltk_data...\n",
      "[nltk_data]   Package punkt is already up-to-date!\n",
      "[nltk_data] Downloading package stopwords to\n",
      "[nltk_data]     /Users/vanessaroth/nltk_data...\n",
      "[nltk_data]   Package stopwords is already up-to-date!\n"
     ]
    },
    {
     "data": {
      "text/plain": [
       "True"
      ]
     },
     "execution_count": 30,
     "metadata": {},
     "output_type": "execute_result"
    }
   ],
   "source": [
    "# Download necessary NLTK data\n",
    "nltk.download('punkt')\n",
    "nltk.download('stopwords')"
   ]
  },
  {
   "cell_type": "code",
   "execution_count": 31,
   "metadata": {},
   "outputs": [],
   "source": [
    "# Preprocess text: remove punctuation, convert to lowercase, remove stopwords\n",
    "def preprocess_text(text):\n",
    "    text = re.sub(r'[^\\w\\s]', '', text)  # remove punctuation\n",
    "    text = text.lower()\n",
    "    text = nltk.word_tokenize(text)\n",
    "    stop_words = set(stopwords.words('english'))\n",
    "    text = [word for word in text if word not in stop_words]\n",
    "    stemmer = PorterStemmer()\n",
    "    text = [stemmer.stem(word) for word in text]\n",
    "    return \" \".join(text)"
   ]
  },
  {
   "cell_type": "code",
   "execution_count": 32,
   "metadata": {},
   "outputs": [],
   "source": [
    "# Apply preprocessing to 'Name' column\n",
    "X_train['cleaned_name'] = X_train['Name'].apply(preprocess_text)"
   ]
  },
  {
   "cell_type": "code",
   "execution_count": 33,
   "metadata": {},
   "outputs": [],
   "source": [
    "X_test['cleaned_name'] = X_test['Name'].apply(preprocess_text)"
   ]
  },
  {
   "cell_type": "code",
   "execution_count": 34,
   "metadata": {},
   "outputs": [
    {
     "name": "stdout",
     "output_type": "stream",
     "text": [
      "GloVe model 'data/glove.6B.50d.txt' loaded successfully (in batches).\n"
     ]
    }
   ],
   "source": [
    "# Load GloVe embeddings in batches\n",
    "glove_file = 'data/glove.6B.50d.txt'\n",
    "glove_model = {}\n",
    "\n",
    "with open(glove_file, 'r', encoding='utf-8') as f: #Open the file\n",
    "    for line in f:\n",
    "        parts = line.strip().split()\n",
    "        word = parts[0]\n",
    "        vector = np.array(parts[1:], dtype=float) #Convert vector string parts to floats\n",
    "        glove_model[word] = vector #Store the word and vector in the dictionary\n",
    "\n",
    "print(f\"GloVe model '{glove_file}' loaded successfully (in batches).\")"
   ]
  },
  {
   "cell_type": "code",
   "execution_count": 35,
   "metadata": {},
   "outputs": [],
   "source": [
    "# Use glove_model dictionary to create document vectors\n",
    "def create_document_vector(title, glove_model):\n",
    "    words = title.split()\n",
    "    vectors = []\n",
    "    for word in words:\n",
    "        if word in glove_model: #Check if the word is actually in the dict\n",
    "            vectors.append(glove_model[word])\n",
    "    if vectors:\n",
    "        return np.mean(vectors, axis=0)\n",
    "    else:\n",
    "        return np.zeros(50) #50 because we use the 50-dimensional GloVe embeddings"
   ]
  },
  {
   "cell_type": "code",
   "execution_count": 36,
   "metadata": {},
   "outputs": [],
   "source": [
    "# Apply function\n",
    "X_train['glove_vector'] = X_train['cleaned_name'].apply(lambda x: create_document_vector(x, glove_model))"
   ]
  },
  {
   "cell_type": "code",
   "execution_count": 37,
   "metadata": {},
   "outputs": [],
   "source": [
    "X_test['glove_vector'] = X_test['cleaned_name'].apply(lambda x: create_document_vector(x, glove_model))"
   ]
  },
  {
   "cell_type": "code",
   "execution_count": 38,
   "metadata": {},
   "outputs": [
    {
     "name": "stdout",
     "output_type": "stream",
     "text": [
      "                           cleaned_name   \n",
      "162996                         basement  \\\n",
      "292914     leather bag handmad fairtrad   \n",
      "125905     100 coolest wood creat figur   \n",
      "58259   mcclanamania ed mcclanahan read   \n",
      "28646           long green line webseri   \n",
      "\n",
      "                                             glove_vector  \n",
      "162996  [0.61918, 0.63082, 0.60009, -0.5461, 0.54093, ...  \n",
      "292914  [-0.6541295, -0.223695, -0.29667499999999997, ...  \n",
      "125905  [-0.26749999999999996, 0.054332500000000006, 0...  \n",
      "58259   [-0.10530666666666666, 0.23354666666666665, 0....  \n",
      "28646   [-0.10991, 0.5963083333333333, -0.056930000000...  \n"
     ]
    }
   ],
   "source": [
    "# Check and verify embedding\n",
    "print(X_train[['cleaned_name', 'glove_vector']].head())"
   ]
  },
  {
   "cell_type": "code",
   "execution_count": 39,
   "metadata": {},
   "outputs": [
    {
     "name": "stdout",
     "output_type": "stream",
     "text": [
      "                                             cleaned_name   \n",
      "101848                 eterium space combat sim window pc  \\\n",
      "88177                                      carri cah movi   \n",
      "102893                                          buy coffe   \n",
      "5204    passchendael stori war art new york intern fri...   \n",
      "75268                           typefac presid unit state   \n",
      "\n",
      "                                             glove_vector  \n",
      "101848  [0.5778159999999999, -0.011517999999999983, 0....  \n",
      "88177   [-0.117482, -0.09532999999999997, -0.177244999...  \n",
      "102893  [0.76552, -0.12379, 1.144, 0.071116, 0.69537, ...  \n",
      "5204    [0.05469616666666668, 0.34339499999999995, -0....  \n",
      "75268   [-0.06752999999999998, -0.396077, 0.2767345, 0...  \n"
     ]
    }
   ],
   "source": [
    "print(X_test[['cleaned_name', 'glove_vector']].head())"
   ]
  },
  {
   "cell_type": "code",
   "execution_count": 40,
   "metadata": {},
   "outputs": [
    {
     "name": "stdout",
     "output_type": "stream",
     "text": [
      "Number of zero vectors: 12703/265169\n",
      "Percentage of zero vectors: 4.79%\n"
     ]
    }
   ],
   "source": [
    "# Zero vector analysis \n",
    "def is_zero_vector(vector):\n",
    "    return all(v == 0 for v in vector)\n",
    "\n",
    "zero_vector_count = X_train['glove_vector'].apply(is_zero_vector).sum()\n",
    "total_vectors = len(X_train)\n",
    "zero_vector_percentage = (zero_vector_count / total_vectors) * 100\n",
    "\n",
    "print(f\"Number of zero vectors: {zero_vector_count}/{total_vectors}\")\n",
    "print(f\"Percentage of zero vectors: {zero_vector_percentage:.2f}%\")"
   ]
  },
  {
   "cell_type": "code",
   "execution_count": 41,
   "metadata": {},
   "outputs": [],
   "source": [
    "# Quality Control: Cosine Similarity Analysis\n",
    "def calculate_cosine_similarity(title1, title2, glove_model):\n",
    "    vec1 = create_document_vector(title1, glove_model)\n",
    "    vec2 = create_document_vector(title2, glove_model)\n",
    "    similarity = cosine_similarity([vec1], [vec2])[0][0]  #Get the single similarity score\n",
    "    return similarity"
   ]
  },
  {
   "cell_type": "code",
   "execution_count": 42,
   "metadata": {},
   "outputs": [
    {
     "name": "stdout",
     "output_type": "stream",
     "text": [
      "Cluster 0:\n",
      "                                  cleaned_name\n",
      "260974         cadav card game aspir necromanc\n",
      "352805  mysterion allinon oracl card play game\n",
      "25666                     tour time emili davi\n",
      "136447            ritual bicycl play card deck\n",
      "329440                           sin play card\n",
      "Cluster 1:\n",
      "                                    cleaned_name\n",
      "10738                              preserv album\n",
      "41080              bosen sued cyt tour ep releas\n",
      "338722  brigid bird margaret mclarti debut album\n",
      "335524                               barrel band\n",
      "127010              unsung musician motown empir\n",
      "Cluster 2:\n",
      "                                     cleaned_name\n",
      "58259             mcclanamania ed mcclanahan read\n",
      "201242                           time thief novel\n",
      "197930                              afriq fashion\n",
      "135658  rumspringa travel artist resid photo book\n",
      "210343                8bit gospel john comic book\n",
      "Cluster 3:\n",
      "                                   cleaned_name\n",
      "104021                    inyofac booti project\n",
      "355676   arduino high power hbridg motor shield\n",
      "163337  help fund independ record label project\n",
      "277539       sustain ship finit element analysi\n",
      "23218        ouroboro 2011 flipsid core project\n",
      "Cluster 4:\n",
      "                                            cleaned_name\n",
      "162996                                          basement\n",
      "292914                      leather bag handmad fairtrad\n",
      "28646                            long green line webseri\n",
      "331441                                      bottom heart\n",
      "213147  blue hill bar grillerevit roxburi culinari scene\n",
      "Cluster 5:\n",
      "                                           cleaned_name\n",
      "89326             let grow homesweet homegrown hot sauc\n",
      "234382                                  black bean cafe\n",
      "254295                                  coadabear sweet\n",
      "73078   nake chorizo food truck spanish filipino cuisin\n",
      "164942                         brewmastersclub ask beer\n",
      "Cluster 6:\n",
      "                        cleaned_name\n",
      "125905  100 coolest wood creat figur\n",
      "372286              axx gener dublin\n",
      "339490                halfl adventur\n",
      "231083                         bridg\n",
      "151520              rasa mat project\n",
      "Cluster 7:\n",
      "                                             cleaned_name\n",
      "43535                                        equestria la\n",
      "171115  animaladentro de lászló krasznahorkai nuestra ...\n",
      "299390                         när två världar kolliderar\n",
      "347138                                           zo manag\n",
      "293113                                    univers tensegr\n",
      "Cluster 8:\n",
      "                                          cleaned_name\n",
      "130937        go purs organizerfor quick chang handbag\n",
      "191138                         bad aunti kitchen smart\n",
      "331819                                       find hope\n",
      "250102  save photo everyday histori make public domain\n",
      "187968                                        die live\n",
      "Cluster 9:\n",
      "                                             cleaned_name\n",
      "328422                          user friendli manual mind\n",
      "356678                            ever need found ine app\n",
      "149181                 nonplay card art inspir gener tool\n",
      "123470  bluetooth zx spectrum recreat sinclair zx spec...\n",
      "186704                                  lifesav emerg usb\n"
     ]
    }
   ],
   "source": [
    "# Cluster to find similar project names\n",
    "glove_matrix = np.array(X_train['glove_vector'].tolist())\n",
    "\n",
    "# Scale the data (important for KMeans)\n",
    "scaler = StandardScaler()\n",
    "glove_matrix_scaled = scaler.fit_transform(glove_matrix)\n",
    "\n",
    "# Choose the number of clusters (k) – experiment to find a good value\n",
    "k = 10  #Start with a small number and experiment. You can use the elbow method to determine k.\n",
    "kmeans = KMeans(n_clusters=k, random_state=42) #setting random state for reproducibility.\n",
    "kmeans.fit(glove_matrix_scaled)\n",
    "\n",
    "X_train['cluster'] = kmeans.labels_\n",
    "\n",
    "# Find similar titles within the same cluster.\n",
    "for i in range(k):\n",
    "    cluster_df = X_train[X_train['cluster'] == i]\n",
    "    print(f\"Cluster {i}:\")\n",
    "    print(cluster_df[['cleaned_name']].head()) #Show top few titles in each cluster"
   ]
  },
  {
   "cell_type": "code",
   "execution_count": 43,
   "metadata": {},
   "outputs": [],
   "source": [
    "# Pick example pairs for cosine similarity analysis. \n",
    "# Strategy: similar pairs (within-cluster), dissimilar pairs (between-clusters), and edge cases (diverse titles)\n",
    "example_pairs = [\n",
    "    # similar pairs within clusters\n",
    "    (\"cadav card game aspir necromanc\", \"ritual bicycl play card deck\"), #Cluster 1\n",
    "    (\"nonplay card art inspir gener tool\", \"sin play card\"), #Cluster 1 and 9 - interesting\n",
    "    (\"bad aunti kitchen smart\", \"black bean cafe\"), #Cluster 8 and 5 \n",
    "    \n",
    "    # dissimilar pairs between clusters\n",
    "    (\"axx gener dublin\", \"sustain ship finit element analysi\"),\n",
    "    (\"afriq fashion\", \"brigid bird margaret mclarti debut album\"),\n",
    "    (\"arduino high power hbridg motor shield \", \"coadabear sweet\")\n",
    "]"
   ]
  },
  {
   "cell_type": "code",
   "execution_count": 44,
   "metadata": {},
   "outputs": [
    {
     "name": "stdout",
     "output_type": "stream",
     "text": [
      "Cosine similarity between 'cadav card game aspir necromanc' and 'ritual bicycl play card deck': 0.842\n",
      "Cosine similarity between 'nonplay card art inspir gener tool' and 'sin play card': 0.620\n",
      "Cosine similarity between 'bad aunti kitchen smart' and 'black bean cafe': 0.625\n",
      "Cosine similarity between 'axx gener dublin' and 'sustain ship finit element analysi': -0.117\n",
      "Cosine similarity between 'afriq fashion' and 'brigid bird margaret mclarti debut album': 0.413\n",
      "Cosine similarity between 'arduino high power hbridg motor shield ' and 'coadabear sweet': 0.180\n"
     ]
    }
   ],
   "source": [
    "for example_pair in example_pairs:\n",
    "    similarity = calculate_cosine_similarity(example_pair[0], example_pair[1], glove_model)\n",
    "    print(f\"Cosine similarity between '{example_pair[0]}' and '{example_pair[1]}': {similarity:.3f}\")"
   ]
  },
  {
   "cell_type": "markdown",
   "metadata": {},
   "source": [
    "#### Summary Interpretation:\n",
    "- GloVe embedding seems reasonably effective in capturing semantic relationships, particularly for closely related titles\n",
    "- however: 'hand made guitar pick' and 'new kitchen tool' share high similarity as well - maybe due to limitations of the GloVe model (trained on general corpus of words, not specifically project titles)"
   ]
  },
  {
   "cell_type": "markdown",
   "metadata": {},
   "source": [
    "#### Flatten GloVe vector for downstream analysis"
   ]
  },
  {
   "cell_type": "code",
   "execution_count": 45,
   "metadata": {},
   "outputs": [],
   "source": [
    "# Flatten GloVe vectors into separate columns\n",
    "glove_vectors = np.vstack(X_train['glove_vector'].values)"
   ]
  },
  {
   "cell_type": "code",
   "execution_count": 46,
   "metadata": {},
   "outputs": [],
   "source": [
    "glove_vectors2 = np.vstack(X_test['glove_vector'].values)"
   ]
  },
  {
   "cell_type": "code",
   "execution_count": 47,
   "metadata": {},
   "outputs": [],
   "source": [
    "# Convert 2D array into a DF with appropriate column names\n",
    "glove_df = pd.DataFrame(glove_vectors, columns=[f'glove_dim_{i+1}' for i in range(glove_vectors.shape[1])])"
   ]
  },
  {
   "cell_type": "code",
   "execution_count": 48,
   "metadata": {},
   "outputs": [],
   "source": [
    "glove_df2 = pd.DataFrame(glove_vectors2, columns=[f'glove_dim_{i+1}' for i in range(glove_vectors2.shape[1])])"
   ]
  },
  {
   "cell_type": "code",
   "execution_count": 49,
   "metadata": {},
   "outputs": [],
   "source": [
    "# Handle NaNs: fill with 0\n",
    "glove_df = glove_df.fillna(0)"
   ]
  },
  {
   "cell_type": "code",
   "execution_count": 50,
   "metadata": {},
   "outputs": [],
   "source": [
    "glove_df2 = glove_df2.fillna(0)"
   ]
  },
  {
   "cell_type": "code",
   "execution_count": 51,
   "metadata": {},
   "outputs": [],
   "source": [
    "# Drop original glove_vector column and concatenate the new GloVe columns\n",
    "X_train = X_train.drop(columns=['glove_vector']).reset_index(drop=True)\n",
    "X_train = pd.concat([X_train, glove_df], axis=1)"
   ]
  },
  {
   "cell_type": "code",
   "execution_count": 52,
   "metadata": {},
   "outputs": [],
   "source": [
    "X_test = X_test.drop(columns=['glove_vector']).reset_index(drop=True)\n",
    "X_test = pd.concat([X_test, glove_df2], axis=1)"
   ]
  },
  {
   "cell_type": "code",
   "execution_count": 53,
   "metadata": {},
   "outputs": [
    {
     "data": {
      "text/plain": [
       "Index(['Name', 'Category', 'Country', 'Launched', 'Deadline', 'Goal',\n",
       "       'Pledged', 'Backers', 'log_Goal', 'log_Pledged', 'log_Backers',\n",
       "       'ProjectDuration', 'LaunchYear', 'LaunchMonth', 'LaunchDay',\n",
       "       'DayOfWeek', 'BackersPerDollar', 'cleaned_name', 'cluster',\n",
       "       'glove_dim_1', 'glove_dim_2', 'glove_dim_3', 'glove_dim_4',\n",
       "       'glove_dim_5', 'glove_dim_6', 'glove_dim_7', 'glove_dim_8',\n",
       "       'glove_dim_9', 'glove_dim_10', 'glove_dim_11', 'glove_dim_12',\n",
       "       'glove_dim_13', 'glove_dim_14', 'glove_dim_15', 'glove_dim_16',\n",
       "       'glove_dim_17', 'glove_dim_18', 'glove_dim_19', 'glove_dim_20',\n",
       "       'glove_dim_21', 'glove_dim_22', 'glove_dim_23', 'glove_dim_24',\n",
       "       'glove_dim_25', 'glove_dim_26', 'glove_dim_27', 'glove_dim_28',\n",
       "       'glove_dim_29', 'glove_dim_30', 'glove_dim_31', 'glove_dim_32',\n",
       "       'glove_dim_33', 'glove_dim_34', 'glove_dim_35', 'glove_dim_36',\n",
       "       'glove_dim_37', 'glove_dim_38', 'glove_dim_39', 'glove_dim_40',\n",
       "       'glove_dim_41', 'glove_dim_42', 'glove_dim_43', 'glove_dim_44',\n",
       "       'glove_dim_45', 'glove_dim_46', 'glove_dim_47', 'glove_dim_48',\n",
       "       'glove_dim_49', 'glove_dim_50'],\n",
       "      dtype='object')"
      ]
     },
     "execution_count": 53,
     "metadata": {},
     "output_type": "execute_result"
    }
   ],
   "source": [
    "X_train.columns"
   ]
  },
  {
   "cell_type": "code",
   "execution_count": 54,
   "metadata": {},
   "outputs": [
    {
     "data": {
      "text/plain": [
       "Index(['Name', 'Category', 'Country', 'Launched', 'Deadline', 'Goal',\n",
       "       'Pledged', 'Backers', 'log_Goal', 'log_Pledged', 'log_Backers',\n",
       "       'ProjectDuration', 'LaunchYear', 'LaunchMonth', 'LaunchDay',\n",
       "       'DayOfWeek', 'BackersPerDollar', 'cleaned_name', 'glove_dim_1',\n",
       "       'glove_dim_2', 'glove_dim_3', 'glove_dim_4', 'glove_dim_5',\n",
       "       'glove_dim_6', 'glove_dim_7', 'glove_dim_8', 'glove_dim_9',\n",
       "       'glove_dim_10', 'glove_dim_11', 'glove_dim_12', 'glove_dim_13',\n",
       "       'glove_dim_14', 'glove_dim_15', 'glove_dim_16', 'glove_dim_17',\n",
       "       'glove_dim_18', 'glove_dim_19', 'glove_dim_20', 'glove_dim_21',\n",
       "       'glove_dim_22', 'glove_dim_23', 'glove_dim_24', 'glove_dim_25',\n",
       "       'glove_dim_26', 'glove_dim_27', 'glove_dim_28', 'glove_dim_29',\n",
       "       'glove_dim_30', 'glove_dim_31', 'glove_dim_32', 'glove_dim_33',\n",
       "       'glove_dim_34', 'glove_dim_35', 'glove_dim_36', 'glove_dim_37',\n",
       "       'glove_dim_38', 'glove_dim_39', 'glove_dim_40', 'glove_dim_41',\n",
       "       'glove_dim_42', 'glove_dim_43', 'glove_dim_44', 'glove_dim_45',\n",
       "       'glove_dim_46', 'glove_dim_47', 'glove_dim_48', 'glove_dim_49',\n",
       "       'glove_dim_50'],\n",
       "      dtype='object')"
      ]
     },
     "execution_count": 54,
     "metadata": {},
     "output_type": "execute_result"
    }
   ],
   "source": [
    "X_test.columns"
   ]
  },
  {
   "cell_type": "code",
   "execution_count": 55,
   "metadata": {},
   "outputs": [],
   "source": [
    "# Drop unnecessary Name column + Datetime columns + non-log columns\n",
    "X_train = X_train.drop(columns=['Name', 'cleaned_name', 'Launched', 'Deadline', 'Goal', 'Backers', 'Pledged', 'cluster'])"
   ]
  },
  {
   "cell_type": "code",
   "execution_count": 56,
   "metadata": {},
   "outputs": [],
   "source": [
    "X_test = X_test.drop(columns=['Name', 'cleaned_name', 'Launched', 'Deadline', 'Goal', 'Backers', 'Pledged'])"
   ]
  },
  {
   "cell_type": "markdown",
   "metadata": {},
   "source": [
    "# One-hot Encoding categorical features"
   ]
  },
  {
   "cell_type": "code",
   "execution_count": 57,
   "metadata": {},
   "outputs": [],
   "source": [
    "# Categorical columns\n",
    "categorical_cols = ['Category', 'Country', 'DayOfWeek', 'LaunchMonth', 'LaunchYear']"
   ]
  },
  {
   "cell_type": "code",
   "execution_count": 58,
   "metadata": {},
   "outputs": [],
   "source": [
    "# Create column transformer\n",
    "ct = ColumnTransformer(\n",
    "    transformers=[\n",
    "        ('encoder', OneHotEncoder(handle_unknown='ignore', sparse_output=False), categorical_cols)\n",
    "    ],\n",
    "    remainder='passthrough' #keep other columns as they are\n",
    ")"
   ]
  },
  {
   "cell_type": "code",
   "execution_count": 59,
   "metadata": {},
   "outputs": [],
   "source": [
    "# Apply one-hot encoding\n",
    "encoded_data = ct.fit_transform(X_train)"
   ]
  },
  {
   "cell_type": "code",
   "execution_count": 60,
   "metadata": {},
   "outputs": [],
   "source": [
    "encoded_data2 = ct.fit_transform(X_test)"
   ]
  },
  {
   "cell_type": "code",
   "execution_count": 61,
   "metadata": {},
   "outputs": [
    {
     "data": {
      "text/plain": [
       "encoder__Category_Art       float64\n",
       "encoder__Category_Comics    float64\n",
       "encoder__Category_Crafts    float64\n",
       "encoder__Category_Dance     float64\n",
       "encoder__Category_Design    float64\n",
       "                             ...   \n",
       "remainder__glove_dim_46     float64\n",
       "remainder__glove_dim_47     float64\n",
       "remainder__glove_dim_48     float64\n",
       "remainder__glove_dim_49     float64\n",
       "remainder__glove_dim_50     float64\n",
       "Length: 121, dtype: object"
      ]
     },
     "execution_count": 61,
     "metadata": {},
     "output_type": "execute_result"
    }
   ],
   "source": [
    "# Ensure proper DF Conversion\n",
    "X_train_encoded_df = pd.DataFrame(encoded_data, columns=ct.get_feature_names_out())\n",
    "\n",
    "# Infer numeric types\n",
    "X_train_encoded_df = X_train_encoded_df.apply(pd.to_numeric, errors='ignore')\n",
    "\n",
    "# Check\n",
    "X_train_encoded_df.dtypes"
   ]
  },
  {
   "cell_type": "code",
   "execution_count": 62,
   "metadata": {},
   "outputs": [
    {
     "data": {
      "text/plain": [
       "encoder__Category_Art       float64\n",
       "encoder__Category_Comics    float64\n",
       "encoder__Category_Crafts    float64\n",
       "encoder__Category_Dance     float64\n",
       "encoder__Category_Design    float64\n",
       "                             ...   \n",
       "remainder__glove_dim_46     float64\n",
       "remainder__glove_dim_47     float64\n",
       "remainder__glove_dim_48     float64\n",
       "remainder__glove_dim_49     float64\n",
       "remainder__glove_dim_50     float64\n",
       "Length: 121, dtype: object"
      ]
     },
     "execution_count": 62,
     "metadata": {},
     "output_type": "execute_result"
    }
   ],
   "source": [
    "# Ensure proper DF Conversion\n",
    "X_test_encoded_df = pd.DataFrame(encoded_data2, columns=ct.get_feature_names_out())\n",
    "\n",
    "# Infer numeric types\n",
    "X_test_encoded_df = X_test_encoded_df.apply(pd.to_numeric, errors='ignore')\n",
    "\n",
    "# Check\n",
    "X_test_encoded_df.dtypes"
   ]
  },
  {
   "cell_type": "code",
   "execution_count": 63,
   "metadata": {},
   "outputs": [
    {
     "name": "stdout",
     "output_type": "stream",
     "text": [
      "Original X train DataFrame shape: (265169, 61)\n",
      "Encoded X train DataFrame shape: (265169, 121)\n"
     ]
    }
   ],
   "source": [
    "#Verification: Check the shape of the DataFrame\n",
    "print(\"Original X train DataFrame shape:\", X_train.shape)\n",
    "print(\"Encoded X train DataFrame shape:\", X_train_encoded_df.shape)"
   ]
  },
  {
   "cell_type": "code",
   "execution_count": 64,
   "metadata": {},
   "outputs": [
    {
     "name": "stdout",
     "output_type": "stream",
     "text": [
      "Original X train DataFrame shape: (66293, 61)\n",
      "Encoded X train DataFrame shape: (66293, 121)\n"
     ]
    }
   ],
   "source": [
    "print(\"Original X train DataFrame shape:\", X_test.shape)\n",
    "print(\"Encoded X train DataFrame shape:\", X_test_encoded_df.shape)"
   ]
  },
  {
   "cell_type": "markdown",
   "metadata": {},
   "source": [
    "#### Combine countries to continents"
   ]
  },
  {
   "cell_type": "code",
   "execution_count": 65,
   "metadata": {},
   "outputs": [],
   "source": [
    "# Dictionary for mapping\n",
    "country_to_continent = {\n",
    "    'United States': 'North America',\n",
    "    'Canada': 'North America',\n",
    "    'Mexico': 'North America',\n",
    "    'United Kingdom': 'Europe',\n",
    "    'Germany': 'Europe',\n",
    "    'France': 'Europe',\n",
    "    'Italy': 'Europe',\n",
    "    'Spain': 'Europe',\n",
    "    'Netherlands': 'Europe',\n",
    "    'Belgium': 'Europe',\n",
    "    'Switzerland': 'Europe',\n",
    "    'Sweden': 'Europe',\n",
    "    'Denmark': 'Europe',\n",
    "    'Norway': 'Europe',\n",
    "    'Austria': 'Europe',\n",
    "    'Ireland': 'Europe',\n",
    "    'Luxembourg': 'Europe',\n",
    "    'Australia': 'Oceania',\n",
    "    'New Zealand': 'Oceania',\n",
    "    'Hong Kong': 'Asia',\n",
    "    'Singapore': 'Asia',\n",
    "    'Japan': 'Asia',\n",
    "}"
   ]
  },
  {
   "cell_type": "code",
   "execution_count": 66,
   "metadata": {},
   "outputs": [],
   "source": [
    "# Create Country Column and map them to continents\n",
    "country_cols = X_train_encoded_df.filter(regex='^encoder__Country_').columns\n",
    "\n",
    "continent_features = {}\n",
    "for country_col in country_cols:\n",
    "    country = country_col.replace('encoder__Country_', '')\n",
    "    if country in country_to_continent:\n",
    "        continent = country_to_continent[country]\n",
    "        if continent not in continent_features:\n",
    "            continent_features[continent] = 0\n",
    "        continent_features[continent] += X_train_encoded_df[country_col]"
   ]
  },
  {
   "cell_type": "code",
   "execution_count": 67,
   "metadata": {},
   "outputs": [],
   "source": [
    "country_cols = X_test_encoded_df.filter(regex='^encoder__Country_').columns\n",
    "\n",
    "continent_features = {}\n",
    "for country_col in country_cols:\n",
    "    country = country_col.replace('encoder__Country_', '')\n",
    "    if country in country_to_continent:\n",
    "        continent = country_to_continent[country]\n",
    "        if continent not in continent_features:\n",
    "            continent_features[continent] = 0\n",
    "        continent_features[continent] += X_test_encoded_df[country_col]"
   ]
  },
  {
   "cell_type": "code",
   "execution_count": 68,
   "metadata": {},
   "outputs": [],
   "source": [
    "# Create new continent columns \n",
    "for continent, values in continent_features.items():\n",
    "    X_train_encoded_df[f'continent_{continent}'] = values"
   ]
  },
  {
   "cell_type": "code",
   "execution_count": 69,
   "metadata": {},
   "outputs": [],
   "source": [
    "for continent, values in continent_features.items():\n",
    "    X_test_encoded_df[f'continent_{continent}'] = values"
   ]
  },
  {
   "cell_type": "code",
   "execution_count": 70,
   "metadata": {},
   "outputs": [],
   "source": [
    "# Remove the original country columns\n",
    "X_train_encoded_df = X_train_encoded_df.drop(columns=country_cols)"
   ]
  },
  {
   "cell_type": "code",
   "execution_count": 71,
   "metadata": {},
   "outputs": [],
   "source": [
    "X_test_encoded_df = X_test_encoded_df.drop(columns=country_cols)"
   ]
  },
  {
   "cell_type": "code",
   "execution_count": 72,
   "metadata": {},
   "outputs": [
    {
     "name": "stdout",
     "output_type": "stream",
     "text": [
      "(265169, 103)\n"
     ]
    }
   ],
   "source": [
    "# Verify\n",
    "print(X_train_encoded_df.shape)"
   ]
  },
  {
   "cell_type": "code",
   "execution_count": 73,
   "metadata": {},
   "outputs": [
    {
     "name": "stdout",
     "output_type": "stream",
     "text": [
      "(66293, 103)\n"
     ]
    }
   ],
   "source": [
    "print(X_test_encoded_df.shape)"
   ]
  },
  {
   "cell_type": "markdown",
   "metadata": {},
   "source": [
    "#### Clean up column names"
   ]
  },
  {
   "cell_type": "code",
   "execution_count": 74,
   "metadata": {},
   "outputs": [],
   "source": [
    "# Function to clean column names\n",
    "def clean_column_names(col_name):\n",
    "    # Remove known prefixes\n",
    "    col_name = col_name.replace('encoder__', '').replace('remainder__', '')\n",
    "    # Optionally, replace underscores with spaces or hyphens for better readability\n",
    "    col_name = col_name.replace('_', ' ')\n",
    "    return col_name\n",
    "\n",
    "# Apply the function to rename columns\n",
    "X_train_encoded_df.columns = [clean_column_names(col) for col in X_train_encoded_df.columns]"
   ]
  },
  {
   "cell_type": "code",
   "execution_count": 75,
   "metadata": {},
   "outputs": [],
   "source": [
    "X_test_encoded_df.columns = [clean_column_names(col) for col in X_test_encoded_df.columns]"
   ]
  },
  {
   "cell_type": "code",
   "execution_count": 76,
   "metadata": {},
   "outputs": [
    {
     "data": {
      "text/plain": [
       "Category Art               float64\n",
       "Category Comics            float64\n",
       "Category Crafts            float64\n",
       "Category Dance             float64\n",
       "Category Design            float64\n",
       "                            ...   \n",
       "glove dim 50               float64\n",
       "continent Oceania          float64\n",
       "continent Europe           float64\n",
       "continent North America    float64\n",
       "continent Asia             float64\n",
       "Length: 103, dtype: object"
      ]
     },
     "execution_count": 76,
     "metadata": {},
     "output_type": "execute_result"
    }
   ],
   "source": [
    "# Print all column names as a list\n",
    "X_train_encoded_df.dtypes\n"
   ]
  },
  {
   "cell_type": "code",
   "execution_count": 78,
   "metadata": {},
   "outputs": [
    {
     "data": {
      "text/plain": [
       "Category Art               float64\n",
       "Category Comics            float64\n",
       "Category Crafts            float64\n",
       "Category Dance             float64\n",
       "Category Design            float64\n",
       "                            ...   \n",
       "glove dim 50               float64\n",
       "continent Oceania          float64\n",
       "continent Europe           float64\n",
       "continent North America    float64\n",
       "continent Asia             float64\n",
       "Length: 103, dtype: object"
      ]
     },
     "execution_count": 78,
     "metadata": {},
     "output_type": "execute_result"
    }
   ],
   "source": [
    "X_test_encoded_df.dtypes"
   ]
  },
  {
   "cell_type": "markdown",
   "metadata": {},
   "source": []
  },
  {
   "cell_type": "markdown",
   "metadata": {},
   "source": [
    "### Baseline without Scaling"
   ]
  },
  {
   "cell_type": "code",
   "execution_count": null,
   "metadata": {},
   "outputs": [],
   "source": [
    "baseline_model = LogisticRegression(random_state=SEED, max_iter=1000)"
   ]
  },
  {
   "cell_type": "code",
   "execution_count": 95,
   "metadata": {},
   "outputs": [
    {
     "name": "stdout",
     "output_type": "stream",
     "text": [
      "continent Oceania          198876\n",
      "continent Europe           198876\n",
      "continent North America    198876\n",
      "continent Asia             198876\n",
      "dtype: int64\n"
     ]
    }
   ],
   "source": [
    "missing_data = X_train_encoded_df.isnull().sum()\n",
    "missing_data = missing_data[missing_data > 0]  # Filter out columns with no missing values\n",
    "print(missing_data.sort_values(ascending=False)) "
   ]
  },
  {
   "cell_type": "code",
   "execution_count": 96,
   "metadata": {},
   "outputs": [],
   "source": [
    "X_train_encoded_df = X_train_encoded_df.fillna(0)"
   ]
  },
  {
   "cell_type": "code",
   "execution_count": null,
   "metadata": {},
   "outputs": [],
   "source": [
    "X_test_encoded_df = X_test_encoded_df.fillna(0)"
   ]
  },
  {
   "cell_type": "code",
   "execution_count": 97,
   "metadata": {},
   "outputs": [
    {
     "data": {
      "text/html": [
       "<style>#sk-container-id-2 {color: black;background-color: white;}#sk-container-id-2 pre{padding: 0;}#sk-container-id-2 div.sk-toggleable {background-color: white;}#sk-container-id-2 label.sk-toggleable__label {cursor: pointer;display: block;width: 100%;margin-bottom: 0;padding: 0.3em;box-sizing: border-box;text-align: center;}#sk-container-id-2 label.sk-toggleable__label-arrow:before {content: \"▸\";float: left;margin-right: 0.25em;color: #696969;}#sk-container-id-2 label.sk-toggleable__label-arrow:hover:before {color: black;}#sk-container-id-2 div.sk-estimator:hover label.sk-toggleable__label-arrow:before {color: black;}#sk-container-id-2 div.sk-toggleable__content {max-height: 0;max-width: 0;overflow: hidden;text-align: left;background-color: #f0f8ff;}#sk-container-id-2 div.sk-toggleable__content pre {margin: 0.2em;color: black;border-radius: 0.25em;background-color: #f0f8ff;}#sk-container-id-2 input.sk-toggleable__control:checked~div.sk-toggleable__content {max-height: 200px;max-width: 100%;overflow: auto;}#sk-container-id-2 input.sk-toggleable__control:checked~label.sk-toggleable__label-arrow:before {content: \"▾\";}#sk-container-id-2 div.sk-estimator input.sk-toggleable__control:checked~label.sk-toggleable__label {background-color: #d4ebff;}#sk-container-id-2 div.sk-label input.sk-toggleable__control:checked~label.sk-toggleable__label {background-color: #d4ebff;}#sk-container-id-2 input.sk-hidden--visually {border: 0;clip: rect(1px 1px 1px 1px);clip: rect(1px, 1px, 1px, 1px);height: 1px;margin: -1px;overflow: hidden;padding: 0;position: absolute;width: 1px;}#sk-container-id-2 div.sk-estimator {font-family: monospace;background-color: #f0f8ff;border: 1px dotted black;border-radius: 0.25em;box-sizing: border-box;margin-bottom: 0.5em;}#sk-container-id-2 div.sk-estimator:hover {background-color: #d4ebff;}#sk-container-id-2 div.sk-parallel-item::after {content: \"\";width: 100%;border-bottom: 1px solid gray;flex-grow: 1;}#sk-container-id-2 div.sk-label:hover label.sk-toggleable__label {background-color: #d4ebff;}#sk-container-id-2 div.sk-serial::before {content: \"\";position: absolute;border-left: 1px solid gray;box-sizing: border-box;top: 0;bottom: 0;left: 50%;z-index: 0;}#sk-container-id-2 div.sk-serial {display: flex;flex-direction: column;align-items: center;background-color: white;padding-right: 0.2em;padding-left: 0.2em;position: relative;}#sk-container-id-2 div.sk-item {position: relative;z-index: 1;}#sk-container-id-2 div.sk-parallel {display: flex;align-items: stretch;justify-content: center;background-color: white;position: relative;}#sk-container-id-2 div.sk-item::before, #sk-container-id-2 div.sk-parallel-item::before {content: \"\";position: absolute;border-left: 1px solid gray;box-sizing: border-box;top: 0;bottom: 0;left: 50%;z-index: -1;}#sk-container-id-2 div.sk-parallel-item {display: flex;flex-direction: column;z-index: 1;position: relative;background-color: white;}#sk-container-id-2 div.sk-parallel-item:first-child::after {align-self: flex-end;width: 50%;}#sk-container-id-2 div.sk-parallel-item:last-child::after {align-self: flex-start;width: 50%;}#sk-container-id-2 div.sk-parallel-item:only-child::after {width: 0;}#sk-container-id-2 div.sk-dashed-wrapped {border: 1px dashed gray;margin: 0 0.4em 0.5em 0.4em;box-sizing: border-box;padding-bottom: 0.4em;background-color: white;}#sk-container-id-2 div.sk-label label {font-family: monospace;font-weight: bold;display: inline-block;line-height: 1.2em;}#sk-container-id-2 div.sk-label-container {text-align: center;}#sk-container-id-2 div.sk-container {/* jupyter's `normalize.less` sets `[hidden] { display: none; }` but bootstrap.min.css set `[hidden] { display: none !important; }` so we also need the `!important` here to be able to override the default hidden behavior on the sphinx rendered scikit-learn.org. See: https://github.com/scikit-learn/scikit-learn/issues/21755 */display: inline-block !important;position: relative;}#sk-container-id-2 div.sk-text-repr-fallback {display: none;}</style><div id=\"sk-container-id-2\" class=\"sk-top-container\"><div class=\"sk-text-repr-fallback\"><pre>LogisticRegression(max_iter=1000, random_state=50)</pre><b>In a Jupyter environment, please rerun this cell to show the HTML representation or trust the notebook. <br />On GitHub, the HTML representation is unable to render, please try loading this page with nbviewer.org.</b></div><div class=\"sk-container\" hidden><div class=\"sk-item\"><div class=\"sk-estimator sk-toggleable\"><input class=\"sk-toggleable__control sk-hidden--visually\" id=\"sk-estimator-id-2\" type=\"checkbox\" checked><label for=\"sk-estimator-id-2\" class=\"sk-toggleable__label sk-toggleable__label-arrow\">LogisticRegression</label><div class=\"sk-toggleable__content\"><pre>LogisticRegression(max_iter=1000, random_state=50)</pre></div></div></div></div></div>"
      ],
      "text/plain": [
       "LogisticRegression(max_iter=1000, random_state=50)"
      ]
     },
     "execution_count": 97,
     "metadata": {},
     "output_type": "execute_result"
    }
   ],
   "source": [
    "# Fit the model\n",
    "baseline_model.fit(X_train_encoded_df, y_train)"
   ]
  },
  {
   "cell_type": "code",
   "execution_count": 98,
   "metadata": {},
   "outputs": [],
   "source": [
    "X_test_encoded_df = X_test_encoded_df.fillna(0)"
   ]
  },
  {
   "cell_type": "code",
   "execution_count": 99,
   "metadata": {},
   "outputs": [],
   "source": [
    "# Make predictions\n",
    "y_pred = baseline_model.predict(X_test_encoded_df)"
   ]
  },
  {
   "cell_type": "code",
   "execution_count": 100,
   "metadata": {},
   "outputs": [
    {
     "name": "stdout",
     "output_type": "stream",
     "text": [
      "Accuracy: 0.9989139124794473\n",
      "Confusion Matrix:\n",
      "[[39451    72]\n",
      " [    0 26770]]\n",
      "Classification Report:\n",
      "              precision    recall  f1-score   support\n",
      "\n",
      "           0       1.00      1.00      1.00     39523\n",
      "           1       1.00      1.00      1.00     26770\n",
      "\n",
      "    accuracy                           1.00     66293\n",
      "   macro avg       1.00      1.00      1.00     66293\n",
      "weighted avg       1.00      1.00      1.00     66293\n",
      "\n"
     ]
    }
   ],
   "source": [
    "accuracy = accuracy_score(y_test, y_pred)\n",
    "conf_matrix = confusion_matrix(y_test, y_pred)\n",
    "class_report = classification_report(y_test, y_pred)\n",
    "\n",
    "print(f\"Accuracy: {accuracy}\")\n",
    "print(f\"Confusion Matrix:\\n{conf_matrix}\")\n",
    "print(f\"Classification Report:\\n{class_report}\")"
   ]
  },
  {
   "cell_type": "markdown",
   "metadata": {},
   "source": [
    "# Scaling"
   ]
  },
  {
   "cell_type": "code",
   "execution_count": 79,
   "metadata": {},
   "outputs": [],
   "source": [
    "# Feature Scaling: Train Scaler on X_train\n",
    "scaler = StandardScaler()\n",
    "X_train_scaled = scaler.fit_transform(X_train_encoded_df)"
   ]
  },
  {
   "cell_type": "code",
   "execution_count": 80,
   "metadata": {},
   "outputs": [],
   "source": [
    "X_test_scaled = scaler.transform(X_test_encoded_df)"
   ]
  },
  {
   "cell_type": "markdown",
   "metadata": {},
   "source": [
    "## Baseline model"
   ]
  },
  {
   "cell_type": "code",
   "execution_count": 81,
   "metadata": {},
   "outputs": [],
   "source": [
    "# Set up baseline model\n",
    "baseline_model = LogisticRegression(random_state=SEED, max_iter=1000)"
   ]
  },
  {
   "cell_type": "code",
   "execution_count": 82,
   "metadata": {},
   "outputs": [
    {
     "name": "stdout",
     "output_type": "stream",
     "text": [
      "99     198876\n",
      "100    198876\n",
      "101    198876\n",
      "102    198876\n",
      "dtype: int64\n"
     ]
    }
   ],
   "source": [
    "X_train_scaled_df = pd.DataFrame(X_train_scaled)\n",
    "\n",
    "missing_data = X_train_scaled_df.isnull().sum()\n",
    "missing_data = missing_data[missing_data > 0]  # Filter out columns with no missing values\n",
    "print(missing_data.sort_values(ascending=False))  # Sort by missing value count\n"
   ]
  },
  {
   "cell_type": "code",
   "execution_count": 83,
   "metadata": {},
   "outputs": [
    {
     "name": "stdout",
     "output_type": "stream",
     "text": [
      "Columns dropped: [99, 100, 101, 102]\n",
      "Remaining missing values:\n",
      "0\n"
     ]
    }
   ],
   "source": [
    "# Identify columns with missing values\n",
    "columns_with_nan = X_train_scaled_df.columns[X_train_scaled_df.isnull().any()]\n",
    "\n",
    "# Drop these columns\n",
    "X_train_scaled_df = X_train_scaled_df.drop(columns=columns_with_nan)\n",
    "\n",
    "# Confirm the result: Check again for remaining missing values\n",
    "print(f\"Columns dropped: {columns_with_nan.tolist()}\")\n",
    "print(f\"Remaining missing values:\\n{X_train_scaled_df.isnull().sum().sum()}\")\n"
   ]
  },
  {
   "cell_type": "code",
   "execution_count": 84,
   "metadata": {},
   "outputs": [
    {
     "data": {
      "text/html": [
       "<style>#sk-container-id-1 {color: black;background-color: white;}#sk-container-id-1 pre{padding: 0;}#sk-container-id-1 div.sk-toggleable {background-color: white;}#sk-container-id-1 label.sk-toggleable__label {cursor: pointer;display: block;width: 100%;margin-bottom: 0;padding: 0.3em;box-sizing: border-box;text-align: center;}#sk-container-id-1 label.sk-toggleable__label-arrow:before {content: \"▸\";float: left;margin-right: 0.25em;color: #696969;}#sk-container-id-1 label.sk-toggleable__label-arrow:hover:before {color: black;}#sk-container-id-1 div.sk-estimator:hover label.sk-toggleable__label-arrow:before {color: black;}#sk-container-id-1 div.sk-toggleable__content {max-height: 0;max-width: 0;overflow: hidden;text-align: left;background-color: #f0f8ff;}#sk-container-id-1 div.sk-toggleable__content pre {margin: 0.2em;color: black;border-radius: 0.25em;background-color: #f0f8ff;}#sk-container-id-1 input.sk-toggleable__control:checked~div.sk-toggleable__content {max-height: 200px;max-width: 100%;overflow: auto;}#sk-container-id-1 input.sk-toggleable__control:checked~label.sk-toggleable__label-arrow:before {content: \"▾\";}#sk-container-id-1 div.sk-estimator input.sk-toggleable__control:checked~label.sk-toggleable__label {background-color: #d4ebff;}#sk-container-id-1 div.sk-label input.sk-toggleable__control:checked~label.sk-toggleable__label {background-color: #d4ebff;}#sk-container-id-1 input.sk-hidden--visually {border: 0;clip: rect(1px 1px 1px 1px);clip: rect(1px, 1px, 1px, 1px);height: 1px;margin: -1px;overflow: hidden;padding: 0;position: absolute;width: 1px;}#sk-container-id-1 div.sk-estimator {font-family: monospace;background-color: #f0f8ff;border: 1px dotted black;border-radius: 0.25em;box-sizing: border-box;margin-bottom: 0.5em;}#sk-container-id-1 div.sk-estimator:hover {background-color: #d4ebff;}#sk-container-id-1 div.sk-parallel-item::after {content: \"\";width: 100%;border-bottom: 1px solid gray;flex-grow: 1;}#sk-container-id-1 div.sk-label:hover label.sk-toggleable__label {background-color: #d4ebff;}#sk-container-id-1 div.sk-serial::before {content: \"\";position: absolute;border-left: 1px solid gray;box-sizing: border-box;top: 0;bottom: 0;left: 50%;z-index: 0;}#sk-container-id-1 div.sk-serial {display: flex;flex-direction: column;align-items: center;background-color: white;padding-right: 0.2em;padding-left: 0.2em;position: relative;}#sk-container-id-1 div.sk-item {position: relative;z-index: 1;}#sk-container-id-1 div.sk-parallel {display: flex;align-items: stretch;justify-content: center;background-color: white;position: relative;}#sk-container-id-1 div.sk-item::before, #sk-container-id-1 div.sk-parallel-item::before {content: \"\";position: absolute;border-left: 1px solid gray;box-sizing: border-box;top: 0;bottom: 0;left: 50%;z-index: -1;}#sk-container-id-1 div.sk-parallel-item {display: flex;flex-direction: column;z-index: 1;position: relative;background-color: white;}#sk-container-id-1 div.sk-parallel-item:first-child::after {align-self: flex-end;width: 50%;}#sk-container-id-1 div.sk-parallel-item:last-child::after {align-self: flex-start;width: 50%;}#sk-container-id-1 div.sk-parallel-item:only-child::after {width: 0;}#sk-container-id-1 div.sk-dashed-wrapped {border: 1px dashed gray;margin: 0 0.4em 0.5em 0.4em;box-sizing: border-box;padding-bottom: 0.4em;background-color: white;}#sk-container-id-1 div.sk-label label {font-family: monospace;font-weight: bold;display: inline-block;line-height: 1.2em;}#sk-container-id-1 div.sk-label-container {text-align: center;}#sk-container-id-1 div.sk-container {/* jupyter's `normalize.less` sets `[hidden] { display: none; }` but bootstrap.min.css set `[hidden] { display: none !important; }` so we also need the `!important` here to be able to override the default hidden behavior on the sphinx rendered scikit-learn.org. See: https://github.com/scikit-learn/scikit-learn/issues/21755 */display: inline-block !important;position: relative;}#sk-container-id-1 div.sk-text-repr-fallback {display: none;}</style><div id=\"sk-container-id-1\" class=\"sk-top-container\"><div class=\"sk-text-repr-fallback\"><pre>LogisticRegression(max_iter=1000, random_state=50)</pre><b>In a Jupyter environment, please rerun this cell to show the HTML representation or trust the notebook. <br />On GitHub, the HTML representation is unable to render, please try loading this page with nbviewer.org.</b></div><div class=\"sk-container\" hidden><div class=\"sk-item\"><div class=\"sk-estimator sk-toggleable\"><input class=\"sk-toggleable__control sk-hidden--visually\" id=\"sk-estimator-id-1\" type=\"checkbox\" checked><label for=\"sk-estimator-id-1\" class=\"sk-toggleable__label sk-toggleable__label-arrow\">LogisticRegression</label><div class=\"sk-toggleable__content\"><pre>LogisticRegression(max_iter=1000, random_state=50)</pre></div></div></div></div></div>"
      ],
      "text/plain": [
       "LogisticRegression(max_iter=1000, random_state=50)"
      ]
     },
     "execution_count": 84,
     "metadata": {},
     "output_type": "execute_result"
    }
   ],
   "source": [
    "# Fit the model\n",
    "baseline_model.fit(X_train_scaled_df, y_train)"
   ]
  },
  {
   "cell_type": "code",
   "execution_count": 85,
   "metadata": {},
   "outputs": [],
   "source": [
    "X_test_scaled_df = pd.DataFrame(X_test_scaled)\n",
    "\n",
    "# Drop the same columns as in X_train_scaled_df\n",
    "X_test_scaled_df = X_test_scaled_df.drop(columns=columns_with_nan)"
   ]
  },
  {
   "cell_type": "code",
   "execution_count": 86,
   "metadata": {},
   "outputs": [],
   "source": [
    "# Make predictions\n",
    "y_pred = baseline_model.predict(X_test_scaled_df)"
   ]
  },
  {
   "cell_type": "markdown",
   "metadata": {},
   "source": [
    "#### Evaluate the baseline model"
   ]
  },
  {
   "cell_type": "code",
   "execution_count": 87,
   "metadata": {},
   "outputs": [
    {
     "name": "stdout",
     "output_type": "stream",
     "text": [
      "Accuracy: 0.9979635858989637\n",
      "Confusion Matrix:\n",
      "[[39388   135]\n",
      " [    0 26770]]\n",
      "Classification Report:\n",
      "              precision    recall  f1-score   support\n",
      "\n",
      "           0       1.00      1.00      1.00     39523\n",
      "           1       0.99      1.00      1.00     26770\n",
      "\n",
      "    accuracy                           1.00     66293\n",
      "   macro avg       1.00      1.00      1.00     66293\n",
      "weighted avg       1.00      1.00      1.00     66293\n",
      "\n"
     ]
    }
   ],
   "source": [
    "accuracy = accuracy_score(y_test, y_pred)\n",
    "conf_matrix = confusion_matrix(y_test, y_pred)\n",
    "class_report = classification_report(y_test, y_pred)\n",
    "\n",
    "print(f\"Accuracy: {accuracy}\")\n",
    "print(f\"Confusion Matrix:\\n{conf_matrix}\")\n",
    "print(f\"Classification Report:\\n{class_report}\")"
   ]
  },
  {
   "cell_type": "code",
   "execution_count": 92,
   "metadata": {},
   "outputs": [
    {
     "data": {
      "image/png": "[encoded data removed]",
      "text/plain": [
       "<Figure size 1600x1200 with 2 Axes>"
      ]
     },
     "metadata": {},
     "output_type": "display_data"
    }
   ],
   "source": [
    "import seaborn as sns\n",
    "import matplotlib.pyplot as plt\n",
    "\n",
    "# Set up the heatmap\n",
    "plt.figure(figsize=(16, 12))\n",
    "sns.heatmap(correlation_matrix, cmap='coolwarm', annot=False, fmt=\".2f\", vmin=-1, vmax=1)\n",
    "plt.title(\"Feature Correlation Heatmap\")\n",
    "plt.show()\n"
   ]
  },
  {
   "cell_type": "markdown",
   "metadata": {},
   "source": [
    "## Baseline Model without GloVe Embedding"
   ]
  },
  {
   "cell_type": "code",
   "execution_count": 117,
   "metadata": {},
   "outputs": [],
   "source": [
    "# Set up baseline model\n",
    "baseline_model = LogisticRegression(random_state=SEED, max_iter=1000)"
   ]
  },
  {
   "cell_type": "code",
   "execution_count": null,
   "metadata": {},
   "outputs": [],
   "source": [
    "X_train_scaled_df = pd.DataFrame(X_train_scaled)"
   ]
  },
  {
   "cell_type": "code",
   "execution_count": 120,
   "metadata": {},
   "outputs": [],
   "source": [
    "X_train_reduced = X_train_scaled_df.iloc[:, :50]"
   ]
  },
  {
   "cell_type": "code",
   "execution_count": 121,
   "metadata": {},
   "outputs": [
    {
     "data": {
      "text/html": [
       "<style>#sk-container-id-3 {color: black;background-color: white;}#sk-container-id-3 pre{padding: 0;}#sk-container-id-3 div.sk-toggleable {background-color: white;}#sk-container-id-3 label.sk-toggleable__label {cursor: pointer;display: block;width: 100%;margin-bottom: 0;padding: 0.3em;box-sizing: border-box;text-align: center;}#sk-container-id-3 label.sk-toggleable__label-arrow:before {content: \"▸\";float: left;margin-right: 0.25em;color: #696969;}#sk-container-id-3 label.sk-toggleable__label-arrow:hover:before {color: black;}#sk-container-id-3 div.sk-estimator:hover label.sk-toggleable__label-arrow:before {color: black;}#sk-container-id-3 div.sk-toggleable__content {max-height: 0;max-width: 0;overflow: hidden;text-align: left;background-color: #f0f8ff;}#sk-container-id-3 div.sk-toggleable__content pre {margin: 0.2em;color: black;border-radius: 0.25em;background-color: #f0f8ff;}#sk-container-id-3 input.sk-toggleable__control:checked~div.sk-toggleable__content {max-height: 200px;max-width: 100%;overflow: auto;}#sk-container-id-3 input.sk-toggleable__control:checked~label.sk-toggleable__label-arrow:before {content: \"▾\";}#sk-container-id-3 div.sk-estimator input.sk-toggleable__control:checked~label.sk-toggleable__label {background-color: #d4ebff;}#sk-container-id-3 div.sk-label input.sk-toggleable__control:checked~label.sk-toggleable__label {background-color: #d4ebff;}#sk-container-id-3 input.sk-hidden--visually {border: 0;clip: rect(1px 1px 1px 1px);clip: rect(1px, 1px, 1px, 1px);height: 1px;margin: -1px;overflow: hidden;padding: 0;position: absolute;width: 1px;}#sk-container-id-3 div.sk-estimator {font-family: monospace;background-color: #f0f8ff;border: 1px dotted black;border-radius: 0.25em;box-sizing: border-box;margin-bottom: 0.5em;}#sk-container-id-3 div.sk-estimator:hover {background-color: #d4ebff;}#sk-container-id-3 div.sk-parallel-item::after {content: \"\";width: 100%;border-bottom: 1px solid gray;flex-grow: 1;}#sk-container-id-3 div.sk-label:hover label.sk-toggleable__label {background-color: #d4ebff;}#sk-container-id-3 div.sk-serial::before {content: \"\";position: absolute;border-left: 1px solid gray;box-sizing: border-box;top: 0;bottom: 0;left: 50%;z-index: 0;}#sk-container-id-3 div.sk-serial {display: flex;flex-direction: column;align-items: center;background-color: white;padding-right: 0.2em;padding-left: 0.2em;position: relative;}#sk-container-id-3 div.sk-item {position: relative;z-index: 1;}#sk-container-id-3 div.sk-parallel {display: flex;align-items: stretch;justify-content: center;background-color: white;position: relative;}#sk-container-id-3 div.sk-item::before, #sk-container-id-3 div.sk-parallel-item::before {content: \"\";position: absolute;border-left: 1px solid gray;box-sizing: border-box;top: 0;bottom: 0;left: 50%;z-index: -1;}#sk-container-id-3 div.sk-parallel-item {display: flex;flex-direction: column;z-index: 1;position: relative;background-color: white;}#sk-container-id-3 div.sk-parallel-item:first-child::after {align-self: flex-end;width: 50%;}#sk-container-id-3 div.sk-parallel-item:last-child::after {align-self: flex-start;width: 50%;}#sk-container-id-3 div.sk-parallel-item:only-child::after {width: 0;}#sk-container-id-3 div.sk-dashed-wrapped {border: 1px dashed gray;margin: 0 0.4em 0.5em 0.4em;box-sizing: border-box;padding-bottom: 0.4em;background-color: white;}#sk-container-id-3 div.sk-label label {font-family: monospace;font-weight: bold;display: inline-block;line-height: 1.2em;}#sk-container-id-3 div.sk-label-container {text-align: center;}#sk-container-id-3 div.sk-container {/* jupyter's `normalize.less` sets `[hidden] { display: none; }` but bootstrap.min.css set `[hidden] { display: none !important; }` so we also need the `!important` here to be able to override the default hidden behavior on the sphinx rendered scikit-learn.org. See: https://github.com/scikit-learn/scikit-learn/issues/21755 */display: inline-block !important;position: relative;}#sk-container-id-3 div.sk-text-repr-fallback {display: none;}</style><div id=\"sk-container-id-3\" class=\"sk-top-container\"><div class=\"sk-text-repr-fallback\"><pre>LogisticRegression(max_iter=1000, random_state=50)</pre><b>In a Jupyter environment, please rerun this cell to show the HTML representation or trust the notebook. <br />On GitHub, the HTML representation is unable to render, please try loading this page with nbviewer.org.</b></div><div class=\"sk-container\" hidden><div class=\"sk-item\"><div class=\"sk-estimator sk-toggleable\"><input class=\"sk-toggleable__control sk-hidden--visually\" id=\"sk-estimator-id-3\" type=\"checkbox\" checked><label for=\"sk-estimator-id-3\" class=\"sk-toggleable__label sk-toggleable__label-arrow\">LogisticRegression</label><div class=\"sk-toggleable__content\"><pre>LogisticRegression(max_iter=1000, random_state=50)</pre></div></div></div></div></div>"
      ],
      "text/plain": [
       "LogisticRegression(max_iter=1000, random_state=50)"
      ]
     },
     "execution_count": 121,
     "metadata": {},
     "output_type": "execute_result"
    }
   ],
   "source": [
    "# Fit the model\n",
    "baseline_model.fit(X_train_reduced, y_train)"
   ]
  },
  {
   "cell_type": "code",
   "execution_count": 122,
   "metadata": {},
   "outputs": [],
   "source": [
    "X_test_scaled_df = pd.DataFrame(X_test_scaled)\n",
    "\n",
    "X_test_reduced = X_test_scaled_df.iloc[:, :50]"
   ]
  },
  {
   "cell_type": "code",
   "execution_count": 123,
   "metadata": {},
   "outputs": [],
   "source": [
    "# Make predictions\n",
    "y_pred = baseline_model.predict(X_test_reduced)"
   ]
  },
  {
   "cell_type": "code",
   "execution_count": 124,
   "metadata": {},
   "outputs": [
    {
     "name": "stdout",
     "output_type": "stream",
     "text": [
      "Accuracy: 0.99802392409455\n",
      "Confusion Matrix:\n",
      "[[39392   131]\n",
      " [    0 26770]]\n",
      "Classification Report:\n",
      "              precision    recall  f1-score   support\n",
      "\n",
      "           0       1.00      1.00      1.00     39523\n",
      "           1       1.00      1.00      1.00     26770\n",
      "\n",
      "    accuracy                           1.00     66293\n",
      "   macro avg       1.00      1.00      1.00     66293\n",
      "weighted avg       1.00      1.00      1.00     66293\n",
      "\n"
     ]
    }
   ],
   "source": [
    "accuracy = accuracy_score(y_test, y_pred)\n",
    "conf_matrix = confusion_matrix(y_test, y_pred)\n",
    "class_report = classification_report(y_test, y_pred)\n",
    "\n",
    "print(f\"Accuracy: {accuracy}\")\n",
    "print(f\"Confusion Matrix:\\n{conf_matrix}\")\n",
    "print(f\"Classification Report:\\n{class_report}\")"
   ]
  },
  {
   "cell_type": "code",
   "execution_count": null,
   "metadata": {},
   "outputs": [],
   "source": [
    "X_train_reduced.dtypes"
   ]
  },
  {
   "cell_type": "markdown",
   "metadata": {},
   "source": [
    "## Baseline with Random Forest"
   ]
  },
  {
   "cell_type": "code",
   "execution_count": 89,
   "metadata": {},
   "outputs": [
    {
     "name": "stdout",
     "output_type": "stream",
     "text": [
      "[1.01763068e-03 7.42537370e-04 3.17889023e-04 5.82535762e-04\n",
      " 1.41045676e-03 9.87904497e-04 6.59209901e-04 1.23089048e-03\n",
      " 1.22220571e-03 1.15443385e-04 3.23950980e-03 2.12467982e-04\n",
      " 5.78415263e-04 3.15766473e-03 2.01107243e-03 5.45128904e-04\n",
      " 6.45451533e-04 5.82804147e-04 5.46211850e-04 5.29561311e-04\n",
      " 4.29489751e-04 3.45056097e-04 3.76795619e-04 4.21779443e-04\n",
      " 4.24050615e-04 4.13456660e-04 4.29236936e-04 4.18146016e-04\n",
      " 4.86398883e-04 4.29031833e-04 4.22701791e-04 4.67142829e-04\n",
      " 4.75346475e-04 3.47505588e-04 5.35586656e-05 2.58146448e-04\n",
      " 6.43312258e-04 5.35453720e-04 6.46903206e-04 6.72345717e-04\n",
      " 1.14545328e-03 5.01484578e-04 5.76029088e-04 1.45295374e-01\n",
      " 2.95720985e-01 2.75507815e-01 1.16548402e-02 3.65690221e-03\n",
      " 5.22537327e-02 3.61996781e-03 3.93297007e-03 3.69721745e-03\n",
      " 3.79505064e-03 3.56918687e-03 3.53012630e-03 3.51252215e-03\n",
      " 3.57171331e-03 3.73199652e-03 3.53043922e-03 3.50033880e-03\n",
      " 3.52847608e-03 3.58954231e-03 3.56296265e-03 3.72319632e-03\n",
      " 3.78082850e-03 3.57037224e-03 3.80918654e-03 4.69597524e-03\n",
      " 3.72636276e-03 3.49168413e-03 3.57399299e-03 3.77654373e-03\n",
      " 3.59655512e-03 3.53890126e-03 3.59139281e-03 3.66397719e-03\n",
      " 3.48113918e-03 3.84075085e-03 3.76457910e-03 3.56651468e-03\n",
      " 3.65401365e-03 3.55257153e-03 3.65713447e-03 3.59223546e-03\n",
      " 3.61131439e-03 4.36147480e-03 3.54974196e-03 3.49810426e-03\n",
      " 3.60963789e-03 3.57486565e-03 3.47464626e-03 3.47821946e-03\n",
      " 4.91711712e-03 3.92070756e-03 3.51935959e-03 3.87808021e-03\n",
      " 3.75529426e-03 3.69227155e-03 3.49528013e-03]\n"
     ]
    }
   ],
   "source": [
    "from sklearn.ensemble import RandomForestClassifier\n",
    "\n",
    "# Fit a RandomForest to get feature importances\n",
    "rf_model = RandomForestClassifier()\n",
    "rf_model.fit(X_train_scaled_df, y_train)\n",
    "\n",
    "# Get feature importances\n",
    "importances = rf_model.feature_importances_\n",
    "print(importances)\n"
   ]
  },
  {
   "cell_type": "code",
   "execution_count": 90,
   "metadata": {},
   "outputs": [
    {
     "name": "stdout",
     "output_type": "stream",
     "text": [
      "    Feature  Importance\n",
      "44       44    0.295721\n",
      "45       45    0.275508\n",
      "43       43    0.145295\n",
      "48       48    0.052254\n",
      "46       46    0.011655\n",
      "..      ...         ...\n",
      "2         2    0.000318\n",
      "35       35    0.000258\n",
      "11       11    0.000212\n",
      "9         9    0.000115\n",
      "34       34    0.000054\n",
      "\n",
      "[99 rows x 2 columns]\n"
     ]
    }
   ],
   "source": [
    "feature_names = X_train_scaled_df.columns  # Assuming you have column names in X_train_scaled\n",
    "feature_importance_df = pd.DataFrame({\n",
    "    'Feature': feature_names,\n",
    "    'Importance': importances\n",
    "})\n",
    "feature_importance_df = feature_importance_df.sort_values(by='Importance', ascending=False)\n",
    "print(feature_importance_df)\n"
   ]
  },
  {
   "cell_type": "markdown",
   "metadata": {},
   "source": [
    "## Trainining the model"
   ]
  },
  {
   "cell_type": "code",
   "execution_count": null,
   "metadata": {},
   "outputs": [],
   "source": []
  }
 ],
 "metadata": {
  "kernelspec": {
   "display_name": ".venv",
   "language": "python",
   "name": "python3"
  },
  "language_info": {
   "codemirror_mode": {
    "name": "ipython",
    "version": 3
   },
   "file_extension": ".py",
   "mimetype": "text/x-python",
   "name": "python",
   "nbconvert_exporter": "python",
   "pygments_lexer": "ipython3",
   "version": "3.11.3"
  }
 },
 "nbformat": 4,
 "nbformat_minor": 4
}
